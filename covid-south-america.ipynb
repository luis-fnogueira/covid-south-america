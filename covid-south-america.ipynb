{
 "cells": [
  {
   "cell_type": "code",
   "execution_count": 1,
   "id": "062f8369",
   "metadata": {
    "_cell_guid": "b1076dfc-b9ad-4769-8c92-a6c4dae69d19",
    "_uuid": "8f2839f25d086af736a60e9eeb907d3b93b6e0e5",
    "execution": {
     "iopub.execute_input": "2022-03-16T23:21:44.548401Z",
     "iopub.status.busy": "2022-03-16T23:21:44.547035Z",
     "iopub.status.idle": "2022-03-16T23:21:44.565586Z",
     "shell.execute_reply": "2022-03-16T23:21:44.566049Z",
     "shell.execute_reply.started": "2022-03-16T23:17:05.019803Z"
    },
    "papermill": {
     "duration": 0.03884,
     "end_time": "2022-03-16T23:21:44.566327",
     "exception": false,
     "start_time": "2022-03-16T23:21:44.527487",
     "status": "completed"
    },
    "tags": []
   },
   "outputs": [
    {
     "name": "stdout",
     "output_type": "stream",
     "text": [
      "/kaggle/input/covid-in-south-america-latest-data/covid_south_america.csv\n"
     ]
    }
   ],
   "source": [
    "# This Python 3 environment comes with many helpful analytics libraries installed\n",
    "# It is defined by the kaggle/python Docker image: https://github.com/kaggle/docker-python\n",
    "# For example, here's several helpful packages to load\n",
    "\n",
    "import numpy as np # linear algebra\n",
    "import pandas as pd # data processing, CSV file I/O (e.g. pd.read_csv)\n",
    "import matplotlib.pyplot as plt\n",
    "%matplotlib inline\n",
    "plt.rcParams[\"figure.figsize\"] = (8, 6)\n",
    "import squarify\n",
    "\n",
    "# Input data files are available in the read-only \"../input/\" directory\n",
    "# For example, running this (by clicking run or pressing Shift+Enter) will list all files under the input directory\n",
    "\n",
    "import os\n",
    "for dirname, _, filenames in os.walk('/kaggle/input'):\n",
    "    for filename in filenames:\n",
    "        print(os.path.join(dirname, filename))\n",
    "\n",
    "# You can write up to 20GB to the current directory (/kaggle/working/) that gets preserved as output when you create a version using \"Save & Run All\" \n",
    "# You can also write temporary files to /kaggle/temp/, but they won't be saved outside of the current session"
   ]
  },
  {
   "cell_type": "markdown",
   "id": "2eec3605",
   "metadata": {
    "papermill": {
     "duration": 0.006505,
     "end_time": "2022-03-16T23:21:44.580740",
     "exception": false,
     "start_time": "2022-03-16T23:21:44.574235",
     "status": "completed"
    },
    "tags": []
   },
   "source": [
    "Setting the precision of floating points and its format."
   ]
  },
  {
   "cell_type": "code",
   "execution_count": 2,
   "id": "98b43ef5",
   "metadata": {
    "execution": {
     "iopub.execute_input": "2022-03-16T23:21:44.597769Z",
     "iopub.status.busy": "2022-03-16T23:21:44.596829Z",
     "iopub.status.idle": "2022-03-16T23:21:44.601237Z",
     "shell.execute_reply": "2022-03-16T23:21:44.601744Z",
     "shell.execute_reply.started": "2022-03-16T22:45:25.809959Z"
    },
    "papermill": {
     "duration": 0.014504,
     "end_time": "2022-03-16T23:21:44.601940",
     "exception": false,
     "start_time": "2022-03-16T23:21:44.587436",
     "status": "completed"
    },
    "tags": []
   },
   "outputs": [],
   "source": [
    "pd.set_option(\"precision\", 2)\n",
    "pd.options.display.float_format = '{:.2f}'.format"
   ]
  },
  {
   "cell_type": "markdown",
   "id": "14dc5086",
   "metadata": {
    "papermill": {
     "duration": 0.006561,
     "end_time": "2022-03-16T23:21:44.615677",
     "exception": false,
     "start_time": "2022-03-16T23:21:44.609116",
     "status": "completed"
    },
    "tags": []
   },
   "source": [
    "Let's take a look on the data."
   ]
  },
  {
   "cell_type": "code",
   "execution_count": 3,
   "id": "06b95a20",
   "metadata": {
    "execution": {
     "iopub.execute_input": "2022-03-16T23:21:44.632686Z",
     "iopub.status.busy": "2022-03-16T23:21:44.631785Z",
     "iopub.status.idle": "2022-03-16T23:21:44.661222Z",
     "shell.execute_reply": "2022-03-16T23:21:44.661685Z",
     "shell.execute_reply.started": "2022-03-16T22:45:25.826518Z"
    },
    "papermill": {
     "duration": 0.039448,
     "end_time": "2022-03-16T23:21:44.661895",
     "exception": false,
     "start_time": "2022-03-16T23:21:44.622447",
     "status": "completed"
    },
    "tags": []
   },
   "outputs": [
    {
     "data": {
      "text/html": [
       "<div>\n",
       "<style scoped>\n",
       "    .dataframe tbody tr th:only-of-type {\n",
       "        vertical-align: middle;\n",
       "    }\n",
       "\n",
       "    .dataframe tbody tr th {\n",
       "        vertical-align: top;\n",
       "    }\n",
       "\n",
       "    .dataframe thead th {\n",
       "        text-align: right;\n",
       "    }\n",
       "</style>\n",
       "<table border=\"1\" class=\"dataframe\">\n",
       "  <thead>\n",
       "    <tr style=\"text-align: right;\">\n",
       "      <th></th>\n",
       "      <th>Country/Other</th>\n",
       "      <th>Total Cases</th>\n",
       "      <th>Total Deaths</th>\n",
       "      <th>Total Recovered</th>\n",
       "      <th>Active Cases</th>\n",
       "      <th>Tot Cases/ 1M pop</th>\n",
       "      <th>Deaths/ 1M pop</th>\n",
       "      <th>Total Tests</th>\n",
       "      <th>Tests/ 1M pop</th>\n",
       "      <th>Population</th>\n",
       "    </tr>\n",
       "  </thead>\n",
       "  <tbody>\n",
       "    <tr>\n",
       "      <th>0</th>\n",
       "      <td>Argentina</td>\n",
       "      <td>8955458</td>\n",
       "      <td>126955</td>\n",
       "      <td>8753450.00</td>\n",
       "      <td>75053.00</td>\n",
       "      <td>195136</td>\n",
       "      <td>2766</td>\n",
       "      <td>34641140</td>\n",
       "      <td>754816</td>\n",
       "      <td>45893460</td>\n",
       "    </tr>\n",
       "    <tr>\n",
       "      <th>1</th>\n",
       "      <td>Bolivia</td>\n",
       "      <td>896315</td>\n",
       "      <td>21470</td>\n",
       "      <td>803321.00</td>\n",
       "      <td>71524.00</td>\n",
       "      <td>75063</td>\n",
       "      <td>1798</td>\n",
       "      <td>2682016</td>\n",
       "      <td>224609</td>\n",
       "      <td>11940836</td>\n",
       "    </tr>\n",
       "    <tr>\n",
       "      <th>2</th>\n",
       "      <td>Brazil</td>\n",
       "      <td>29194042</td>\n",
       "      <td>653588</td>\n",
       "      <td>27470786.00</td>\n",
       "      <td>1069668.00</td>\n",
       "      <td>135722</td>\n",
       "      <td>3039</td>\n",
       "      <td>63776166</td>\n",
       "      <td>296493</td>\n",
       "      <td>215101451</td>\n",
       "    </tr>\n",
       "    <tr>\n",
       "      <th>3</th>\n",
       "      <td>Chile</td>\n",
       "      <td>3230793</td>\n",
       "      <td>43283</td>\n",
       "      <td>2363592.00</td>\n",
       "      <td>823918.00</td>\n",
       "      <td>166602</td>\n",
       "      <td>2232</td>\n",
       "      <td>33721518</td>\n",
       "      <td>1738917</td>\n",
       "      <td>19392255</td>\n",
       "    </tr>\n",
       "    <tr>\n",
       "      <th>4</th>\n",
       "      <td>Colombia</td>\n",
       "      <td>6074155</td>\n",
       "      <td>139189</td>\n",
       "      <td>5904365.00</td>\n",
       "      <td>30601.00</td>\n",
       "      <td>117273</td>\n",
       "      <td>2687</td>\n",
       "      <td>33427450</td>\n",
       "      <td>645377</td>\n",
       "      <td>51795208</td>\n",
       "    </tr>\n",
       "  </tbody>\n",
       "</table>\n",
       "</div>"
      ],
      "text/plain": [
       "  Country/Other  Total Cases  Total Deaths  Total Recovered  Active Cases  \\\n",
       "0     Argentina      8955458        126955       8753450.00      75053.00   \n",
       "1       Bolivia       896315         21470        803321.00      71524.00   \n",
       "2        Brazil     29194042        653588      27470786.00    1069668.00   \n",
       "3         Chile      3230793         43283       2363592.00     823918.00   \n",
       "4      Colombia      6074155        139189       5904365.00      30601.00   \n",
       "\n",
       "   Tot Cases/ 1M pop  Deaths/ 1M pop  Total Tests  Tests/ 1M pop  Population  \n",
       "0             195136            2766     34641140         754816    45893460  \n",
       "1              75063            1798      2682016         224609    11940836  \n",
       "2             135722            3039     63776166         296493   215101451  \n",
       "3             166602            2232     33721518        1738917    19392255  \n",
       "4             117273            2687     33427450         645377    51795208  "
      ]
     },
     "execution_count": 3,
     "metadata": {},
     "output_type": "execute_result"
    }
   ],
   "source": [
    "df = pd.read_csv('/kaggle/input/covid-in-south-america-latest-data/covid_south_america.csv')\n",
    "df.head()"
   ]
  },
  {
   "cell_type": "markdown",
   "id": "f398c30f",
   "metadata": {
    "papermill": {
     "duration": 0.007001,
     "end_time": "2022-03-16T23:21:44.676341",
     "exception": false,
     "start_time": "2022-03-16T23:21:44.669340",
     "status": "completed"
    },
    "tags": []
   },
   "source": [
    "Understanding more the dataset."
   ]
  },
  {
   "cell_type": "code",
   "execution_count": 4,
   "id": "16801f73",
   "metadata": {
    "execution": {
     "iopub.execute_input": "2022-03-16T23:21:44.698523Z",
     "iopub.status.busy": "2022-03-16T23:21:44.697528Z",
     "iopub.status.idle": "2022-03-16T23:21:44.717229Z",
     "shell.execute_reply": "2022-03-16T23:21:44.716323Z",
     "shell.execute_reply.started": "2022-03-16T22:45:25.852790Z"
    },
    "papermill": {
     "duration": 0.034114,
     "end_time": "2022-03-16T23:21:44.717484",
     "exception": false,
     "start_time": "2022-03-16T23:21:44.683370",
     "status": "completed"
    },
    "tags": []
   },
   "outputs": [
    {
     "name": "stdout",
     "output_type": "stream",
     "text": [
      "<class 'pandas.core.frame.DataFrame'>\n",
      "RangeIndex: 13 entries, 0 to 12\n",
      "Data columns (total 10 columns):\n",
      " #   Column             Non-Null Count  Dtype  \n",
      "---  ------             --------------  -----  \n",
      " 0   Country/Other      13 non-null     object \n",
      " 1   Total Cases        13 non-null     int64  \n",
      " 2   Total Deaths       13 non-null     int64  \n",
      " 3   Total Recovered    11 non-null     float64\n",
      " 4   Active Cases       11 non-null     float64\n",
      " 5   Tot Cases/ 1M pop  13 non-null     int64  \n",
      " 6   Deaths/ 1M pop     13 non-null     int64  \n",
      " 7   Total Tests        13 non-null     int64  \n",
      " 8   Tests/ 1M pop      13 non-null     int64  \n",
      " 9   Population         13 non-null     int64  \n",
      "dtypes: float64(2), int64(7), object(1)\n",
      "memory usage: 1.1+ KB\n"
     ]
    }
   ],
   "source": [
    "\n",
    "df.info()"
   ]
  },
  {
   "cell_type": "code",
   "execution_count": 5,
   "id": "7f3123ba",
   "metadata": {
    "execution": {
     "iopub.execute_input": "2022-03-16T23:21:44.737740Z",
     "iopub.status.busy": "2022-03-16T23:21:44.736847Z",
     "iopub.status.idle": "2022-03-16T23:21:44.768715Z",
     "shell.execute_reply": "2022-03-16T23:21:44.769185Z",
     "shell.execute_reply.started": "2022-03-16T22:45:25.869306Z"
    },
    "papermill": {
     "duration": 0.043036,
     "end_time": "2022-03-16T23:21:44.769366",
     "exception": false,
     "start_time": "2022-03-16T23:21:44.726330",
     "status": "completed"
    },
    "tags": []
   },
   "outputs": [
    {
     "data": {
      "text/html": [
       "<div>\n",
       "<style scoped>\n",
       "    .dataframe tbody tr th:only-of-type {\n",
       "        vertical-align: middle;\n",
       "    }\n",
       "\n",
       "    .dataframe tbody tr th {\n",
       "        vertical-align: top;\n",
       "    }\n",
       "\n",
       "    .dataframe thead th {\n",
       "        text-align: right;\n",
       "    }\n",
       "</style>\n",
       "<table border=\"1\" class=\"dataframe\">\n",
       "  <thead>\n",
       "    <tr style=\"text-align: right;\">\n",
       "      <th></th>\n",
       "      <th>Total Cases</th>\n",
       "      <th>Total Deaths</th>\n",
       "      <th>Total Recovered</th>\n",
       "      <th>Active Cases</th>\n",
       "      <th>Tot Cases/ 1M pop</th>\n",
       "      <th>Deaths/ 1M pop</th>\n",
       "      <th>Total Tests</th>\n",
       "      <th>Tests/ 1M pop</th>\n",
       "      <th>Population</th>\n",
       "    </tr>\n",
       "  </thead>\n",
       "  <tbody>\n",
       "    <tr>\n",
       "      <th>count</th>\n",
       "      <td>13.00</td>\n",
       "      <td>13.00</td>\n",
       "      <td>11.00</td>\n",
       "      <td>11.00</td>\n",
       "      <td>13.00</td>\n",
       "      <td>13.00</td>\n",
       "      <td>13.00</td>\n",
       "      <td>13.00</td>\n",
       "      <td>13.00</td>\n",
       "    </tr>\n",
       "    <tr>\n",
       "      <th>mean</th>\n",
       "      <td>4228150.62</td>\n",
       "      <td>97328.54</td>\n",
       "      <td>4307554.18</td>\n",
       "      <td>199131.27</td>\n",
       "      <td>127359.92</td>\n",
       "      <td>2348.08</td>\n",
       "      <td>16271739.85</td>\n",
       "      <td>750197.54</td>\n",
       "      <td>33595044.00</td>\n",
       "    </tr>\n",
       "    <tr>\n",
       "      <th>std</th>\n",
       "      <td>7973058.15</td>\n",
       "      <td>179856.22</td>\n",
       "      <td>8182946.26</td>\n",
       "      <td>374694.84</td>\n",
       "      <td>71251.59</td>\n",
       "      <td>1389.12</td>\n",
       "      <td>20237576.35</td>\n",
       "      <td>629474.48</td>\n",
       "      <td>57181974.03</td>\n",
       "    </tr>\n",
       "    <tr>\n",
       "      <th>min</th>\n",
       "      <td>63090.00</td>\n",
       "      <td>394.00</td>\n",
       "      <td>11254.00</td>\n",
       "      <td>248.00</td>\n",
       "      <td>18287.00</td>\n",
       "      <td>200.00</td>\n",
       "      <td>231515.00</td>\n",
       "      <td>118692.00</td>\n",
       "      <td>311694.00</td>\n",
       "    </tr>\n",
       "    <tr>\n",
       "      <th>25%</th>\n",
       "      <td>517516.00</td>\n",
       "      <td>5653.00</td>\n",
       "      <td>284917.00</td>\n",
       "      <td>10738.00</td>\n",
       "      <td>79565.00</td>\n",
       "      <td>1798.00</td>\n",
       "      <td>2470170.00</td>\n",
       "      <td>296493.00</td>\n",
       "      <td>3493985.00</td>\n",
       "    </tr>\n",
       "    <tr>\n",
       "      <th>50%</th>\n",
       "      <td>859165.00</td>\n",
       "      <td>21470.00</td>\n",
       "      <td>803321.00</td>\n",
       "      <td>30601.00</td>\n",
       "      <td>117273.00</td>\n",
       "      <td>2215.00</td>\n",
       "      <td>3359014.00</td>\n",
       "      <td>645377.00</td>\n",
       "      <td>18093623.00</td>\n",
       "    </tr>\n",
       "    <tr>\n",
       "      <th>75%</th>\n",
       "      <td>3530004.00</td>\n",
       "      <td>126955.00</td>\n",
       "      <td>4133978.50</td>\n",
       "      <td>73288.50</td>\n",
       "      <td>166602.00</td>\n",
       "      <td>2687.00</td>\n",
       "      <td>33427450.00</td>\n",
       "      <td>822074.00</td>\n",
       "      <td>33744364.00</td>\n",
       "    </tr>\n",
       "    <tr>\n",
       "      <th>max</th>\n",
       "      <td>29194042.00</td>\n",
       "      <td>653588.00</td>\n",
       "      <td>27470786.00</td>\n",
       "      <td>1069668.00</td>\n",
       "      <td>250201.00</td>\n",
       "      <td>6262.00</td>\n",
       "      <td>63776166.00</td>\n",
       "      <td>1929328.00</td>\n",
       "      <td>215101451.00</td>\n",
       "    </tr>\n",
       "  </tbody>\n",
       "</table>\n",
       "</div>"
      ],
      "text/plain": [
       "       Total Cases  Total Deaths  Total Recovered  Active Cases  \\\n",
       "count        13.00         13.00            11.00         11.00   \n",
       "mean    4228150.62      97328.54       4307554.18     199131.27   \n",
       "std     7973058.15     179856.22       8182946.26     374694.84   \n",
       "min       63090.00        394.00         11254.00        248.00   \n",
       "25%      517516.00       5653.00        284917.00      10738.00   \n",
       "50%      859165.00      21470.00        803321.00      30601.00   \n",
       "75%     3530004.00     126955.00       4133978.50      73288.50   \n",
       "max    29194042.00     653588.00      27470786.00    1069668.00   \n",
       "\n",
       "       Tot Cases/ 1M pop  Deaths/ 1M pop  Total Tests  Tests/ 1M pop  \\\n",
       "count              13.00           13.00        13.00          13.00   \n",
       "mean           127359.92         2348.08  16271739.85      750197.54   \n",
       "std             71251.59         1389.12  20237576.35      629474.48   \n",
       "min             18287.00          200.00    231515.00      118692.00   \n",
       "25%             79565.00         1798.00   2470170.00      296493.00   \n",
       "50%            117273.00         2215.00   3359014.00      645377.00   \n",
       "75%            166602.00         2687.00  33427450.00      822074.00   \n",
       "max            250201.00         6262.00  63776166.00     1929328.00   \n",
       "\n",
       "        Population  \n",
       "count        13.00  \n",
       "mean   33595044.00  \n",
       "std    57181974.03  \n",
       "min      311694.00  \n",
       "25%     3493985.00  \n",
       "50%    18093623.00  \n",
       "75%    33744364.00  \n",
       "max   215101451.00  "
      ]
     },
     "execution_count": 5,
     "metadata": {},
     "output_type": "execute_result"
    }
   ],
   "source": [
    "df.describe()"
   ]
  }
 ],
 "metadata": {
  "kernelspec": {
   "display_name": "Python 3",
   "language": "python",
   "name": "python3"
  },
  "language_info": {
   "codemirror_mode": {
    "name": "ipython",
    "version": 3
   },
   "file_extension": ".py",
   "mimetype": "text/x-python",
   "name": "python",
   "nbconvert_exporter": "python",
   "pygments_lexer": "ipython3",
   "version": "3.7.12"
  },
  "papermill": {
   "default_parameters": {},
   "duration": 9.22416,
   "end_time": "2022-03-16T23:21:45.388183",
   "environment_variables": {},
   "exception": null,
   "input_path": "__notebook__.ipynb",
   "output_path": "__notebook__.ipynb",
   "parameters": {},
   "start_time": "2022-03-16T23:21:36.164023",
   "version": "2.3.3"
  }
 },
 "nbformat": 4,
 "nbformat_minor": 5
}
