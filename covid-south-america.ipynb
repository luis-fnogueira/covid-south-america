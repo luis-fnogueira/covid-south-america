{
 "cells": [
  {
   "cell_type": "code",
   "execution_count": 1,
   "id": "1cb791bd",
   "metadata": {
    "_cell_guid": "b1076dfc-b9ad-4769-8c92-a6c4dae69d19",
    "_uuid": "8f2839f25d086af736a60e9eeb907d3b93b6e0e5",
    "execution": {
     "iopub.execute_input": "2022-03-15T20:49:04.875644Z",
     "iopub.status.busy": "2022-03-15T20:49:04.873802Z",
     "iopub.status.idle": "2022-03-15T20:49:04.896344Z",
     "shell.execute_reply": "2022-03-15T20:49:04.897243Z",
     "shell.execute_reply.started": "2022-03-15T20:41:08.151698Z"
    },
    "papermill": {
     "duration": 0.036083,
     "end_time": "2022-03-15T20:49:04.897633",
     "exception": false,
     "start_time": "2022-03-15T20:49:04.861550",
     "status": "completed"
    },
    "tags": []
   },
   "outputs": [
    {
     "name": "stdout",
     "output_type": "stream",
     "text": [
      "/kaggle/input/covid-in-south-america-latest-data/covid_south_america.csv\n"
     ]
    }
   ],
   "source": [
    "# This Python 3 environment comes with many helpful analytics libraries installed\n",
    "# It is defined by the kaggle/python Docker image: https://github.com/kaggle/docker-python\n",
    "# For example, here's several helpful packages to load\n",
    "\n",
    "import numpy as np # linear algebra\n",
    "import pandas as pd # data processing, CSV file I/O (e.g. pd.read_csv)\n",
    "%matplotlib inline\n",
    "\n",
    "# Input data files are available in the read-only \"../input/\" directory\n",
    "# For example, running this (by clicking run or pressing Shift+Enter) will list all files under the input directory\n",
    "\n",
    "import os\n",
    "for dirname, _, filenames in os.walk('/kaggle/input'):\n",
    "    for filename in filenames:\n",
    "        print(os.path.join(dirname, filename))\n",
    "\n",
    "# You can write up to 20GB to the current directory (/kaggle/working/) that gets preserved as output when you create a version using \"Save & Run All\" \n",
    "# You can also write temporary files to /kaggle/temp/, but they won't be saved outside of the current session"
   ]
  },
  {
   "cell_type": "markdown",
   "id": "e948795f",
   "metadata": {
    "papermill": {
     "duration": 0.006895,
     "end_time": "2022-03-15T20:49:04.912419",
     "exception": false,
     "start_time": "2022-03-15T20:49:04.905524",
     "status": "completed"
    },
    "tags": []
   },
   "source": [
    "Let's take a look on the data."
   ]
  },
  {
   "cell_type": "code",
   "execution_count": 2,
   "id": "b9ec954d",
   "metadata": {
    "execution": {
     "iopub.execute_input": "2022-03-15T20:49:04.930488Z",
     "iopub.status.busy": "2022-03-15T20:49:04.929493Z",
     "iopub.status.idle": "2022-03-15T20:49:04.969090Z",
     "shell.execute_reply": "2022-03-15T20:49:04.969683Z",
     "shell.execute_reply.started": "2022-03-15T20:41:59.410461Z"
    },
    "papermill": {
     "duration": 0.050392,
     "end_time": "2022-03-15T20:49:04.969858",
     "exception": false,
     "start_time": "2022-03-15T20:49:04.919466",
     "status": "completed"
    },
    "tags": []
   },
   "outputs": [
    {
     "data": {
      "text/html": [
       "<div>\n",
       "<style scoped>\n",
       "    .dataframe tbody tr th:only-of-type {\n",
       "        vertical-align: middle;\n",
       "    }\n",
       "\n",
       "    .dataframe tbody tr th {\n",
       "        vertical-align: top;\n",
       "    }\n",
       "\n",
       "    .dataframe thead th {\n",
       "        text-align: right;\n",
       "    }\n",
       "</style>\n",
       "<table border=\"1\" class=\"dataframe\">\n",
       "  <thead>\n",
       "    <tr style=\"text-align: right;\">\n",
       "      <th></th>\n",
       "      <th>Country/Other</th>\n",
       "      <th>Total Cases</th>\n",
       "      <th>Total Deaths</th>\n",
       "      <th>Total Recovered</th>\n",
       "      <th>Active Cases</th>\n",
       "      <th>Tot Cases/ 1M pop</th>\n",
       "      <th>Deaths/ 1M pop</th>\n",
       "      <th>Total Tests</th>\n",
       "      <th>Tests/ 1M pop</th>\n",
       "      <th>Population</th>\n",
       "    </tr>\n",
       "  </thead>\n",
       "  <tbody>\n",
       "    <tr>\n",
       "      <th>0</th>\n",
       "      <td>Argentina</td>\n",
       "      <td>8955458</td>\n",
       "      <td>126955</td>\n",
       "      <td>8753450.0</td>\n",
       "      <td>75053.0</td>\n",
       "      <td>195136</td>\n",
       "      <td>2766</td>\n",
       "      <td>34641140</td>\n",
       "      <td>754816</td>\n",
       "      <td>45893460</td>\n",
       "    </tr>\n",
       "    <tr>\n",
       "      <th>1</th>\n",
       "      <td>Bolivia</td>\n",
       "      <td>896315</td>\n",
       "      <td>21470</td>\n",
       "      <td>803321.0</td>\n",
       "      <td>71524.0</td>\n",
       "      <td>75063</td>\n",
       "      <td>1798</td>\n",
       "      <td>2682016</td>\n",
       "      <td>224609</td>\n",
       "      <td>11940836</td>\n",
       "    </tr>\n",
       "    <tr>\n",
       "      <th>2</th>\n",
       "      <td>Brazil</td>\n",
       "      <td>29194042</td>\n",
       "      <td>653588</td>\n",
       "      <td>27470786.0</td>\n",
       "      <td>1069668.0</td>\n",
       "      <td>135722</td>\n",
       "      <td>3039</td>\n",
       "      <td>63776166</td>\n",
       "      <td>296493</td>\n",
       "      <td>215101451</td>\n",
       "    </tr>\n",
       "    <tr>\n",
       "      <th>3</th>\n",
       "      <td>Chile</td>\n",
       "      <td>3230793</td>\n",
       "      <td>43283</td>\n",
       "      <td>2363592.0</td>\n",
       "      <td>823918.0</td>\n",
       "      <td>166602</td>\n",
       "      <td>2232</td>\n",
       "      <td>33721518</td>\n",
       "      <td>1738917</td>\n",
       "      <td>19392255</td>\n",
       "    </tr>\n",
       "    <tr>\n",
       "      <th>4</th>\n",
       "      <td>Colombia</td>\n",
       "      <td>6074155</td>\n",
       "      <td>139189</td>\n",
       "      <td>5904365.0</td>\n",
       "      <td>30601.0</td>\n",
       "      <td>117273</td>\n",
       "      <td>2687</td>\n",
       "      <td>33427450</td>\n",
       "      <td>645377</td>\n",
       "      <td>51795208</td>\n",
       "    </tr>\n",
       "  </tbody>\n",
       "</table>\n",
       "</div>"
      ],
      "text/plain": [
       "  Country/Other  Total Cases  Total Deaths  Total Recovered  Active Cases  \\\n",
       "0     Argentina      8955458        126955        8753450.0       75053.0   \n",
       "1       Bolivia       896315         21470         803321.0       71524.0   \n",
       "2        Brazil     29194042        653588       27470786.0     1069668.0   \n",
       "3         Chile      3230793         43283        2363592.0      823918.0   \n",
       "4      Colombia      6074155        139189        5904365.0       30601.0   \n",
       "\n",
       "   Tot Cases/ 1M pop  Deaths/ 1M pop  Total Tests  Tests/ 1M pop  Population  \n",
       "0             195136            2766     34641140         754816    45893460  \n",
       "1              75063            1798      2682016         224609    11940836  \n",
       "2             135722            3039     63776166         296493   215101451  \n",
       "3             166602            2232     33721518        1738917    19392255  \n",
       "4             117273            2687     33427450         645377    51795208  "
      ]
     },
     "execution_count": 2,
     "metadata": {},
     "output_type": "execute_result"
    }
   ],
   "source": [
    "df = pd.read_csv('/kaggle/input/covid-in-south-america-latest-data/covid_south_america.csv')\n",
    "df.head()"
   ]
  }
 ],
 "metadata": {
  "kernelspec": {
   "display_name": "Python 3",
   "language": "python",
   "name": "python3"
  },
  "language_info": {
   "codemirror_mode": {
    "name": "ipython",
    "version": 3
   },
   "file_extension": ".py",
   "mimetype": "text/x-python",
   "name": "python",
   "nbconvert_exporter": "python",
   "pygments_lexer": "ipython3",
   "version": "3.7.12"
  },
  "papermill": {
   "default_parameters": {},
   "duration": 11.959045,
   "end_time": "2022-03-15T20:49:05.687713",
   "environment_variables": {},
   "exception": null,
   "input_path": "__notebook__.ipynb",
   "output_path": "__notebook__.ipynb",
   "parameters": {},
   "start_time": "2022-03-15T20:48:53.728668",
   "version": "2.3.3"
  }
 },
 "nbformat": 4,
 "nbformat_minor": 5
}
